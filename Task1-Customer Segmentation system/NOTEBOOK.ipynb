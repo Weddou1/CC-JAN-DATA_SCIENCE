{
 "cells": [
  {
   "cell_type": "markdown",
   "id": "6c2ed592",
   "metadata": {},
   "source": [
    "# Hi everyone!\n",
    "\n",
    "Analyzing data and identifying certain patterns is something that can also be applied to understand certain behaviors and \" categories \" of people, and that's what we'll see today ! For this, we will use this dataset available here : \n",
    "\n",
    "https://www.kaggle.com/datasets/vetrirah/customer"
   ]
  },
  {
   "cell_type": "markdown",
   "id": "a7e817c6",
   "metadata": {},
   "source": [
    "# Dataset Presentation"
   ]
  },
  {
   "cell_type": "markdown",
   "id": "367bc12d",
   "metadata": {},
   "source": [
    "#### Context : \n",
    "An automobile company has plans to enter new markets with their existing products (P1, P2, P3, P4 and P5). After intensive market research, they’ve deduced that the behavior of new market is similar to their existing market. \n",
    "\n",
    "#### Columns Description : \n",
    "\n",
    "ID : Customer's ID.\n",
    "\n",
    "Gender : Customer's Gender (Male/Female)\n",
    "\n",
    "Ever_Married : Marrital Statue of the Customer (Yes/No)\n",
    "\n",
    "Age : Customer's Age\n",
    "\n",
    "Graduated : If the Customer is Graduated or No (Yes/No)\n",
    "\n",
    "Work_Experience : Customer's Work Experience in Years\n",
    "\n",
    "Spending Score : Spending Score of the Customer (Low,Average,High)\n",
    "\n",
    "Var_1 : Anonymised Category for the customer. ('Cat_1','Cat_2',..,'Cat_6') (WE WILL NOT FOCUS ON THIS)\n",
    "\n",
    "Segmentation : Category of the Customer (WE WILL NOT FOCUS ON THIS)\n",
    "\n",
    "#### Dataset Preview"
   ]
  },
  {
   "cell_type": "code",
   "execution_count": 72,
   "id": "b0e18f0b",
   "metadata": {},
   "outputs": [
    {
     "data": {
      "text/html": [
       "<div><div id=9f158eda-1412-40c5-bc40-4f2cbb2f7d34 style=\"display:none; background-color:#9D6CFF; color:white; width:200px; height:30px; padding-left:5px; border-radius:4px; flex-direction:row; justify-content:space-around; align-items:center;\" onmouseover=\"this.style.backgroundColor='#BA9BF8'\" onmouseout=\"this.style.backgroundColor='#9D6CFF'\" onclick=\"window.commands?.execute('create-mitosheet-from-dataframe-output');\">See Full Dataframe in Mito</div> <script> if (window.commands?.hasCommand('create-mitosheet-from-dataframe-output')) document.getElementById('9f158eda-1412-40c5-bc40-4f2cbb2f7d34').style.display = 'flex' </script> <table border=\"1\" class=\"dataframe\">\n",
       "  <thead>\n",
       "    <tr style=\"text-align: right;\">\n",
       "      <th></th>\n",
       "      <th>ID</th>\n",
       "      <th>Gender</th>\n",
       "      <th>Ever_Married</th>\n",
       "      <th>Age</th>\n",
       "      <th>Graduated</th>\n",
       "      <th>Profession</th>\n",
       "      <th>Work_Experience</th>\n",
       "      <th>Spending_Score</th>\n",
       "      <th>Family_Size</th>\n",
       "      <th>Var_1</th>\n",
       "      <th>Segmentation</th>\n",
       "    </tr>\n",
       "  </thead>\n",
       "  <tbody>\n",
       "    <tr>\n",
       "      <th>0</th>\n",
       "      <td>462809</td>\n",
       "      <td>Male</td>\n",
       "      <td>No</td>\n",
       "      <td>22</td>\n",
       "      <td>No</td>\n",
       "      <td>Healthcare</td>\n",
       "      <td>1.0</td>\n",
       "      <td>Low</td>\n",
       "      <td>4.0</td>\n",
       "      <td>Cat_4</td>\n",
       "      <td>D</td>\n",
       "    </tr>\n",
       "    <tr>\n",
       "      <th>1</th>\n",
       "      <td>462643</td>\n",
       "      <td>Female</td>\n",
       "      <td>Yes</td>\n",
       "      <td>38</td>\n",
       "      <td>Yes</td>\n",
       "      <td>Engineer</td>\n",
       "      <td>NaN</td>\n",
       "      <td>Average</td>\n",
       "      <td>3.0</td>\n",
       "      <td>Cat_4</td>\n",
       "      <td>A</td>\n",
       "    </tr>\n",
       "    <tr>\n",
       "      <th>2</th>\n",
       "      <td>466315</td>\n",
       "      <td>Female</td>\n",
       "      <td>Yes</td>\n",
       "      <td>67</td>\n",
       "      <td>Yes</td>\n",
       "      <td>Engineer</td>\n",
       "      <td>1.0</td>\n",
       "      <td>Low</td>\n",
       "      <td>1.0</td>\n",
       "      <td>Cat_6</td>\n",
       "      <td>B</td>\n",
       "    </tr>\n",
       "    <tr>\n",
       "      <th>3</th>\n",
       "      <td>461735</td>\n",
       "      <td>Male</td>\n",
       "      <td>Yes</td>\n",
       "      <td>67</td>\n",
       "      <td>Yes</td>\n",
       "      <td>Lawyer</td>\n",
       "      <td>0.0</td>\n",
       "      <td>High</td>\n",
       "      <td>2.0</td>\n",
       "      <td>Cat_6</td>\n",
       "      <td>B</td>\n",
       "    </tr>\n",
       "    <tr>\n",
       "      <th>4</th>\n",
       "      <td>462669</td>\n",
       "      <td>Female</td>\n",
       "      <td>Yes</td>\n",
       "      <td>40</td>\n",
       "      <td>Yes</td>\n",
       "      <td>Entertainment</td>\n",
       "      <td>NaN</td>\n",
       "      <td>High</td>\n",
       "      <td>6.0</td>\n",
       "      <td>Cat_6</td>\n",
       "      <td>A</td>\n",
       "    </tr>\n",
       "  </tbody>\n",
       "</table></div>"
      ],
      "text/plain": [
       "       ID  Gender Ever_Married  Age Graduated     Profession  Work_Experience  \\\n",
       "0  462809    Male           No   22        No     Healthcare              1.0   \n",
       "1  462643  Female          Yes   38       Yes       Engineer              NaN   \n",
       "2  466315  Female          Yes   67       Yes       Engineer              1.0   \n",
       "3  461735    Male          Yes   67       Yes         Lawyer              0.0   \n",
       "4  462669  Female          Yes   40       Yes  Entertainment              NaN   \n",
       "\n",
       "  Spending_Score  Family_Size  Var_1 Segmentation  \n",
       "0            Low          4.0  Cat_4            D  \n",
       "1        Average          3.0  Cat_4            A  \n",
       "2            Low          1.0  Cat_6            B  \n",
       "3           High          2.0  Cat_6            B  \n",
       "4           High          6.0  Cat_6            A  "
      ]
     },
     "execution_count": 72,
     "metadata": {},
     "output_type": "execute_result"
    }
   ],
   "source": [
    "pd.read_csv('Train.csv').head(5)"
   ]
  },
  {
   "cell_type": "markdown",
   "id": "0effbb09",
   "metadata": {},
   "source": [
    "#### Our Goal\n",
    "\n",
    "The dataset was originally given for a competition where they had to make a model to PREDICT the customers segments with a Train.csv and a Test.csv files, but since we want to detect the categories by ourselves, we will not use the \"Segmentation\" column !"
   ]
  },
  {
   "cell_type": "markdown",
   "id": "6eea0bdf",
   "metadata": {},
   "source": [
    "# Let's Start !"
   ]
  },
  {
   "cell_type": "markdown",
   "id": "be23f7a2",
   "metadata": {},
   "source": [
    "## Importing Libraries & General Overview"
   ]
  },
  {
   "cell_type": "code",
   "execution_count": 73,
   "id": "4f44a2dc",
   "metadata": {},
   "outputs": [],
   "source": [
    "import pandas as pd\n",
    "import seaborn as sns\n",
    "import matplotlib.pyplot as plt\n",
    "\n",
    "\n",
    "#To not display certain errors\n",
    "import warnings\n",
    "warnings.filterwarnings('ignore')"
   ]
  },
  {
   "cell_type": "code",
   "execution_count": 74,
   "id": "a7e56284",
   "metadata": {},
   "outputs": [
    {
     "data": {
      "text/html": [
       "<div><div id=0174d461-d3a8-429f-bf0f-849346c9f66e style=\"display:none; background-color:#9D6CFF; color:white; width:200px; height:30px; padding-left:5px; border-radius:4px; flex-direction:row; justify-content:space-around; align-items:center;\" onmouseover=\"this.style.backgroundColor='#BA9BF8'\" onmouseout=\"this.style.backgroundColor='#9D6CFF'\" onclick=\"window.commands?.execute('create-mitosheet-from-dataframe-output');\">See Full Dataframe in Mito</div> <script> if (window.commands?.hasCommand('create-mitosheet-from-dataframe-output')) document.getElementById('0174d461-d3a8-429f-bf0f-849346c9f66e').style.display = 'flex' </script> <table border=\"1\" class=\"dataframe\">\n",
       "  <thead>\n",
       "    <tr style=\"text-align: right;\">\n",
       "      <th></th>\n",
       "      <th>ID</th>\n",
       "      <th>Gender</th>\n",
       "      <th>Ever_Married</th>\n",
       "      <th>Age</th>\n",
       "      <th>Graduated</th>\n",
       "      <th>Profession</th>\n",
       "      <th>Work_Experience</th>\n",
       "      <th>Spending_Score</th>\n",
       "      <th>Family_Size</th>\n",
       "    </tr>\n",
       "  </thead>\n",
       "  <tbody>\n",
       "    <tr>\n",
       "      <th>0</th>\n",
       "      <td>462809</td>\n",
       "      <td>Male</td>\n",
       "      <td>No</td>\n",
       "      <td>22</td>\n",
       "      <td>No</td>\n",
       "      <td>Healthcare</td>\n",
       "      <td>1.0</td>\n",
       "      <td>Low</td>\n",
       "      <td>4.0</td>\n",
       "    </tr>\n",
       "    <tr>\n",
       "      <th>1</th>\n",
       "      <td>462643</td>\n",
       "      <td>Female</td>\n",
       "      <td>Yes</td>\n",
       "      <td>38</td>\n",
       "      <td>Yes</td>\n",
       "      <td>Engineer</td>\n",
       "      <td>NaN</td>\n",
       "      <td>Average</td>\n",
       "      <td>3.0</td>\n",
       "    </tr>\n",
       "    <tr>\n",
       "      <th>2</th>\n",
       "      <td>466315</td>\n",
       "      <td>Female</td>\n",
       "      <td>Yes</td>\n",
       "      <td>67</td>\n",
       "      <td>Yes</td>\n",
       "      <td>Engineer</td>\n",
       "      <td>1.0</td>\n",
       "      <td>Low</td>\n",
       "      <td>1.0</td>\n",
       "    </tr>\n",
       "    <tr>\n",
       "      <th>3</th>\n",
       "      <td>461735</td>\n",
       "      <td>Male</td>\n",
       "      <td>Yes</td>\n",
       "      <td>67</td>\n",
       "      <td>Yes</td>\n",
       "      <td>Lawyer</td>\n",
       "      <td>0.0</td>\n",
       "      <td>High</td>\n",
       "      <td>2.0</td>\n",
       "    </tr>\n",
       "    <tr>\n",
       "      <th>4</th>\n",
       "      <td>462669</td>\n",
       "      <td>Female</td>\n",
       "      <td>Yes</td>\n",
       "      <td>40</td>\n",
       "      <td>Yes</td>\n",
       "      <td>Entertainment</td>\n",
       "      <td>NaN</td>\n",
       "      <td>High</td>\n",
       "      <td>6.0</td>\n",
       "    </tr>\n",
       "    <tr>\n",
       "      <th>...</th>\n",
       "      <td>...</td>\n",
       "      <td>...</td>\n",
       "      <td>...</td>\n",
       "      <td>...</td>\n",
       "      <td>...</td>\n",
       "      <td>...</td>\n",
       "      <td>...</td>\n",
       "      <td>...</td>\n",
       "      <td>...</td>\n",
       "    </tr>\n",
       "    <tr>\n",
       "      <th>8063</th>\n",
       "      <td>464018</td>\n",
       "      <td>Male</td>\n",
       "      <td>No</td>\n",
       "      <td>22</td>\n",
       "      <td>No</td>\n",
       "      <td>NaN</td>\n",
       "      <td>0.0</td>\n",
       "      <td>Low</td>\n",
       "      <td>7.0</td>\n",
       "    </tr>\n",
       "    <tr>\n",
       "      <th>8064</th>\n",
       "      <td>464685</td>\n",
       "      <td>Male</td>\n",
       "      <td>No</td>\n",
       "      <td>35</td>\n",
       "      <td>No</td>\n",
       "      <td>Executive</td>\n",
       "      <td>3.0</td>\n",
       "      <td>Low</td>\n",
       "      <td>4.0</td>\n",
       "    </tr>\n",
       "    <tr>\n",
       "      <th>8065</th>\n",
       "      <td>465406</td>\n",
       "      <td>Female</td>\n",
       "      <td>No</td>\n",
       "      <td>33</td>\n",
       "      <td>Yes</td>\n",
       "      <td>Healthcare</td>\n",
       "      <td>1.0</td>\n",
       "      <td>Low</td>\n",
       "      <td>1.0</td>\n",
       "    </tr>\n",
       "    <tr>\n",
       "      <th>8066</th>\n",
       "      <td>467299</td>\n",
       "      <td>Female</td>\n",
       "      <td>No</td>\n",
       "      <td>27</td>\n",
       "      <td>Yes</td>\n",
       "      <td>Healthcare</td>\n",
       "      <td>1.0</td>\n",
       "      <td>Low</td>\n",
       "      <td>4.0</td>\n",
       "    </tr>\n",
       "    <tr>\n",
       "      <th>8067</th>\n",
       "      <td>461879</td>\n",
       "      <td>Male</td>\n",
       "      <td>Yes</td>\n",
       "      <td>37</td>\n",
       "      <td>Yes</td>\n",
       "      <td>Executive</td>\n",
       "      <td>0.0</td>\n",
       "      <td>Average</td>\n",
       "      <td>3.0</td>\n",
       "    </tr>\n",
       "  </tbody>\n",
       "</table></div>"
      ],
      "text/plain": [
       "          ID  Gender Ever_Married  Age Graduated     Profession  \\\n",
       "0     462809    Male           No   22        No     Healthcare   \n",
       "1     462643  Female          Yes   38       Yes       Engineer   \n",
       "2     466315  Female          Yes   67       Yes       Engineer   \n",
       "3     461735    Male          Yes   67       Yes         Lawyer   \n",
       "4     462669  Female          Yes   40       Yes  Entertainment   \n",
       "...      ...     ...          ...  ...       ...            ...   \n",
       "8063  464018    Male           No   22        No            NaN   \n",
       "8064  464685    Male           No   35        No      Executive   \n",
       "8065  465406  Female           No   33       Yes     Healthcare   \n",
       "8066  467299  Female           No   27       Yes     Healthcare   \n",
       "8067  461879    Male          Yes   37       Yes      Executive   \n",
       "\n",
       "      Work_Experience Spending_Score  Family_Size  \n",
       "0                 1.0            Low          4.0  \n",
       "1                 NaN        Average          3.0  \n",
       "2                 1.0            Low          1.0  \n",
       "3                 0.0           High          2.0  \n",
       "4                 NaN           High          6.0  \n",
       "...               ...            ...          ...  \n",
       "8063              0.0            Low          7.0  \n",
       "8064              3.0            Low          4.0  \n",
       "8065              1.0            Low          1.0  \n",
       "8066              1.0            Low          4.0  \n",
       "8067              0.0        Average          3.0  \n",
       "\n",
       "[8068 rows x 9 columns]"
      ]
     },
     "execution_count": 74,
     "metadata": {},
     "output_type": "execute_result"
    }
   ],
   "source": [
    "df=pd.read_csv('Train.csv')\n",
    "df=df.drop(['Var_1','Segmentation'],axis=1) #Let's remove the unnecessary columns first \n",
    "df"
   ]
  },
  {
   "cell_type": "markdown",
   "id": "32ee7208",
   "metadata": {},
   "source": [
    "#### Checking if there is Null values + Columns Values"
   ]
  },
  {
   "cell_type": "code",
   "execution_count": 75,
   "id": "2a0c0f65",
   "metadata": {},
   "outputs": [
    {
     "name": "stdout",
     "output_type": "stream",
     "text": [
      "<class 'pandas.core.frame.DataFrame'>\n",
      "RangeIndex: 8068 entries, 0 to 8067\n",
      "Data columns (total 9 columns):\n",
      " #   Column           Non-Null Count  Dtype  \n",
      "---  ------           --------------  -----  \n",
      " 0   ID               8068 non-null   int64  \n",
      " 1   Gender           8068 non-null   object \n",
      " 2   Ever_Married     7928 non-null   object \n",
      " 3   Age              8068 non-null   int64  \n",
      " 4   Graduated        7990 non-null   object \n",
      " 5   Profession       7944 non-null   object \n",
      " 6   Work_Experience  7239 non-null   float64\n",
      " 7   Spending_Score   8068 non-null   object \n",
      " 8   Family_Size      7733 non-null   float64\n",
      "dtypes: float64(2), int64(2), object(5)\n",
      "memory usage: 567.4+ KB\n"
     ]
    }
   ],
   "source": [
    "df.info()"
   ]
  },
  {
   "cell_type": "code",
   "execution_count": 76,
   "id": "4ff9b025",
   "metadata": {},
   "outputs": [
    {
     "data": {
      "text/html": [
       "<div><div id=2f6bc080-db9f-45ba-937b-6d643c61c6d0 style=\"display:none; background-color:#9D6CFF; color:white; width:200px; height:30px; padding-left:5px; border-radius:4px; flex-direction:row; justify-content:space-around; align-items:center;\" onmouseover=\"this.style.backgroundColor='#BA9BF8'\" onmouseout=\"this.style.backgroundColor='#9D6CFF'\" onclick=\"window.commands?.execute('create-mitosheet-from-dataframe-output');\">See Full Dataframe in Mito</div> <script> if (window.commands?.hasCommand('create-mitosheet-from-dataframe-output')) document.getElementById('2f6bc080-db9f-45ba-937b-6d643c61c6d0').style.display = 'flex' </script> <table border=\"1\" class=\"dataframe\">\n",
       "  <thead>\n",
       "    <tr style=\"text-align: right;\">\n",
       "      <th></th>\n",
       "      <th>ID</th>\n",
       "      <th>Age</th>\n",
       "      <th>Work_Experience</th>\n",
       "      <th>Family_Size</th>\n",
       "    </tr>\n",
       "  </thead>\n",
       "  <tbody>\n",
       "    <tr>\n",
       "      <th>count</th>\n",
       "      <td>8068.000000</td>\n",
       "      <td>8068.000000</td>\n",
       "      <td>7239.000000</td>\n",
       "      <td>7733.000000</td>\n",
       "    </tr>\n",
       "    <tr>\n",
       "      <th>mean</th>\n",
       "      <td>463479.214551</td>\n",
       "      <td>43.466906</td>\n",
       "      <td>2.641663</td>\n",
       "      <td>2.850123</td>\n",
       "    </tr>\n",
       "    <tr>\n",
       "      <th>std</th>\n",
       "      <td>2595.381232</td>\n",
       "      <td>16.711696</td>\n",
       "      <td>3.406763</td>\n",
       "      <td>1.531413</td>\n",
       "    </tr>\n",
       "    <tr>\n",
       "      <th>min</th>\n",
       "      <td>458982.000000</td>\n",
       "      <td>18.000000</td>\n",
       "      <td>0.000000</td>\n",
       "      <td>1.000000</td>\n",
       "    </tr>\n",
       "    <tr>\n",
       "      <th>25%</th>\n",
       "      <td>461240.750000</td>\n",
       "      <td>30.000000</td>\n",
       "      <td>0.000000</td>\n",
       "      <td>2.000000</td>\n",
       "    </tr>\n",
       "    <tr>\n",
       "      <th>50%</th>\n",
       "      <td>463472.500000</td>\n",
       "      <td>40.000000</td>\n",
       "      <td>1.000000</td>\n",
       "      <td>3.000000</td>\n",
       "    </tr>\n",
       "    <tr>\n",
       "      <th>75%</th>\n",
       "      <td>465744.250000</td>\n",
       "      <td>53.000000</td>\n",
       "      <td>4.000000</td>\n",
       "      <td>4.000000</td>\n",
       "    </tr>\n",
       "    <tr>\n",
       "      <th>max</th>\n",
       "      <td>467974.000000</td>\n",
       "      <td>89.000000</td>\n",
       "      <td>14.000000</td>\n",
       "      <td>9.000000</td>\n",
       "    </tr>\n",
       "  </tbody>\n",
       "</table></div>"
      ],
      "text/plain": [
       "                  ID          Age  Work_Experience  Family_Size\n",
       "count    8068.000000  8068.000000      7239.000000  7733.000000\n",
       "mean   463479.214551    43.466906         2.641663     2.850123\n",
       "std      2595.381232    16.711696         3.406763     1.531413\n",
       "min    458982.000000    18.000000         0.000000     1.000000\n",
       "25%    461240.750000    30.000000         0.000000     2.000000\n",
       "50%    463472.500000    40.000000         1.000000     3.000000\n",
       "75%    465744.250000    53.000000         4.000000     4.000000\n",
       "max    467974.000000    89.000000        14.000000     9.000000"
      ]
     },
     "execution_count": 76,
     "metadata": {},
     "output_type": "execute_result"
    }
   ],
   "source": [
    "df.describe()"
   ]
  },
  {
   "cell_type": "markdown",
   "id": "02969fc9",
   "metadata": {},
   "source": [
    "It looks like there are some Null values in our data, but at least our numerical values look consistent and in the right ranges."
   ]
  },
  {
   "cell_type": "markdown",
   "id": "d24aee7b",
   "metadata": {},
   "source": [
    "#### Adding new Columns\n",
    "\n",
    "For the purpose of our analysis, we will categorize our \"Age\" field into a new column by making some ranges."
   ]
  },
  {
   "cell_type": "code",
   "execution_count": 77,
   "id": "ce749fca",
   "metadata": {},
   "outputs": [
    {
     "data": {
      "text/html": [
       "<div><div id=6651c0dd-4528-4569-a671-7c46cf6f3ee5 style=\"display:none; background-color:#9D6CFF; color:white; width:200px; height:30px; padding-left:5px; border-radius:4px; flex-direction:row; justify-content:space-around; align-items:center;\" onmouseover=\"this.style.backgroundColor='#BA9BF8'\" onmouseout=\"this.style.backgroundColor='#9D6CFF'\" onclick=\"window.commands?.execute('create-mitosheet-from-dataframe-output');\">See Full Dataframe in Mito</div> <script> if (window.commands?.hasCommand('create-mitosheet-from-dataframe-output')) document.getElementById('6651c0dd-4528-4569-a671-7c46cf6f3ee5').style.display = 'flex' </script> <table border=\"1\" class=\"dataframe\">\n",
       "  <thead>\n",
       "    <tr style=\"text-align: right;\">\n",
       "      <th></th>\n",
       "      <th>ID</th>\n",
       "      <th>Gender</th>\n",
       "      <th>Ever_Married</th>\n",
       "      <th>Age</th>\n",
       "      <th>Graduated</th>\n",
       "      <th>Profession</th>\n",
       "      <th>Work_Experience</th>\n",
       "      <th>Spending_Score</th>\n",
       "      <th>Family_Size</th>\n",
       "      <th>AgeCat</th>\n",
       "    </tr>\n",
       "  </thead>\n",
       "  <tbody>\n",
       "    <tr>\n",
       "      <th>0</th>\n",
       "      <td>462809</td>\n",
       "      <td>Male</td>\n",
       "      <td>No</td>\n",
       "      <td>22</td>\n",
       "      <td>No</td>\n",
       "      <td>Healthcare</td>\n",
       "      <td>1.0</td>\n",
       "      <td>Low</td>\n",
       "      <td>4.0</td>\n",
       "      <td>19-25</td>\n",
       "    </tr>\n",
       "    <tr>\n",
       "      <th>1</th>\n",
       "      <td>462643</td>\n",
       "      <td>Female</td>\n",
       "      <td>Yes</td>\n",
       "      <td>38</td>\n",
       "      <td>Yes</td>\n",
       "      <td>Engineer</td>\n",
       "      <td>NaN</td>\n",
       "      <td>Average</td>\n",
       "      <td>3.0</td>\n",
       "      <td>36-46</td>\n",
       "    </tr>\n",
       "    <tr>\n",
       "      <th>2</th>\n",
       "      <td>466315</td>\n",
       "      <td>Female</td>\n",
       "      <td>Yes</td>\n",
       "      <td>67</td>\n",
       "      <td>Yes</td>\n",
       "      <td>Engineer</td>\n",
       "      <td>1.0</td>\n",
       "      <td>Low</td>\n",
       "      <td>1.0</td>\n",
       "      <td>47+</td>\n",
       "    </tr>\n",
       "  </tbody>\n",
       "</table></div>"
      ],
      "text/plain": [
       "       ID  Gender Ever_Married  Age Graduated  Profession  Work_Experience  \\\n",
       "0  462809    Male           No   22        No  Healthcare              1.0   \n",
       "1  462643  Female          Yes   38       Yes    Engineer              NaN   \n",
       "2  466315  Female          Yes   67       Yes    Engineer              1.0   \n",
       "\n",
       "  Spending_Score  Family_Size AgeCat  \n",
       "0            Low          4.0  19-25  \n",
       "1        Average          3.0  36-46  \n",
       "2            Low          1.0    47+  "
      ]
     },
     "execution_count": 77,
     "metadata": {},
     "output_type": "execute_result"
    }
   ],
   "source": [
    "df['AgeCat']=pd.cut(df['Age'],bins=[0, 18, 25, 35,46, 100], labels=['0-18', '19-25', '26-35', '36-46','47+'])\n",
    "df.head(3)"
   ]
  },
  {
   "cell_type": "markdown",
   "id": "62450659",
   "metadata": {},
   "source": [
    "## Data Cleaning (We'll check each field and their missing values.)"
   ]
  },
  {
   "cell_type": "markdown",
   "id": "9a214acd",
   "metadata": {},
   "source": [
    "### Usefull Functions"
   ]
  },
  {
   "cell_type": "code",
   "execution_count": 78,
   "id": "36f2cd46",
   "metadata": {},
   "outputs": [
    {
     "name": "stdout",
     "output_type": "stream",
     "text": [
      "Missing Values :\n",
      "ID :  0\n",
      "Gender :  0\n",
      "Ever_Married :  140\n",
      "Age :  0\n",
      "Graduated :  78\n",
      "Profession :  124\n",
      "Work_Experience :  829\n",
      "Spending_Score :  0\n",
      "Family_Size :  335\n",
      "AgeCat :  0\n"
     ]
    }
   ],
   "source": [
    "def null_values(field):\n",
    "    return df[field].isnull().sum()\n",
    "print(\"Missing Values :\")\n",
    "for i in df.columns:\n",
    "    print(i+' : ',null_values(i))"
   ]
  },
  {
   "cell_type": "code",
   "execution_count": 79,
   "id": "69663869",
   "metadata": {},
   "outputs": [],
   "source": [
    "def groupby_count(df, groupby_cols, count_col, filter_cols=None):\n",
    "    if filter_cols:\n",
    "        df = df[filter_cols + groupby_cols + [count_col]]\n",
    "    else:\n",
    "        df = df[groupby_cols + [count_col]]\n",
    "    return df.groupby(by=groupby_cols).count()"
   ]
  },
  {
   "cell_type": "markdown",
   "id": "d1af351b",
   "metadata": {},
   "source": [
    "### Ever_Married"
   ]
  },
  {
   "cell_type": "code",
   "execution_count": 80,
   "id": "e0fab9be",
   "metadata": {},
   "outputs": [
    {
     "name": "stdout",
     "output_type": "stream",
     "text": [
      "                               ID\n",
      "Spending_Score Ever_Married      \n",
      "Average        Yes           1937\n",
      "High           Yes           1176\n",
      "Low            No            3285\n",
      "               Yes           1530\n"
     ]
    }
   ],
   "source": [
    "print(groupby_count(df, ['Spending_Score','Ever_Married'], 'ID') )"
   ]
  },
  {
   "cell_type": "markdown",
   "id": "51abd6f5",
   "metadata": {},
   "source": [
    "- All Average / High Spending_Score are Married"
   ]
  },
  {
   "cell_type": "code",
   "execution_count": 81,
   "id": "28200331",
   "metadata": {},
   "outputs": [
    {
     "name": "stdout",
     "output_type": "stream",
     "text": [
      "                              ID\n",
      "Profession    Ever_Married      \n",
      "Artist        No             713\n",
      "              Yes           1774\n",
      "Doctor        No             366\n",
      "              Yes            311\n",
      "Engineer      No             267\n",
      "              Yes            415\n",
      "Entertainment No             358\n",
      "              Yes            579\n",
      "Executive     No              37\n",
      "              Yes            550\n",
      "Healthcare    No            1153\n",
      "              Yes            145\n",
      "Homemaker     No             112\n",
      "              Yes            128\n",
      "Lawyer        No              40\n",
      "              Yes            575\n",
      "Marketing     No             189\n",
      "              Yes             96\n"
     ]
    }
   ],
   "source": [
    "print(groupby_count(df, ['Profession','Ever_Married'], 'ID') )"
   ]
  },
  {
   "cell_type": "markdown",
   "id": "73165d21",
   "metadata": {},
   "source": [
    "- People with Healthcare profession are mostly not married"
   ]
  },
  {
   "cell_type": "code",
   "execution_count": 82,
   "id": "90837fc9",
   "metadata": {
    "scrolled": true
   },
   "outputs": [
    {
     "name": "stdout",
     "output_type": "stream",
     "text": [
      "                       ID\n",
      "AgeCat Ever_Married      \n",
      "0-18   No             125\n",
      "       Yes              4\n",
      "19-25  No             771\n",
      "       Yes             69\n",
      "26-35  No            1360\n",
      "       Yes            553\n",
      "36-46  No             723\n",
      "       Yes           1338\n",
      "47+    No             306\n",
      "       Yes           2679\n"
     ]
    }
   ],
   "source": [
    "print(groupby_count(df, ['AgeCat','Ever_Married'], 'ID') )"
   ]
  },
  {
   "cell_type": "markdown",
   "id": "de99a3fb",
   "metadata": {},
   "source": [
    "- 47+ People are mostly married\n",
    "- 19-25 People are mostly not married\n",
    "- 26-35 People are mostly not married"
   ]
  },
  {
   "cell_type": "code",
   "execution_count": 83,
   "id": "0c45df0d",
   "metadata": {},
   "outputs": [],
   "source": [
    "x=df.query(\"Spending_Score == 'High' and Ever_Married.isna()\")\n",
    "x['Ever_Married']='Yes'\n",
    "df.update(x)\n",
    "\n",
    "x=df.query(\"Profession == 'Healthcare' and Ever_Married.isna()\")\n",
    "x['Ever_Married']='No'\n",
    "df.update(x)\n",
    "\n",
    "x=df.query(\"AgeCat == '47+' and Ever_Married.isna()\")\n",
    "x['Ever_Married']='Yes'\n",
    "df.update(x)\n",
    "\n",
    "x=df.query(\"AgeCat == '19-25' and Ever_Married.isna()\")\n",
    "x['Ever_Married']='No'\n",
    "df.update(x)\n",
    "\n",
    "x=df.query(\"AgeCat == '26-35' and Ever_Married.isna()\")\n",
    "x['Ever_Married']='No'\n",
    "df.update(x)"
   ]
  },
  {
   "cell_type": "code",
   "execution_count": 84,
   "id": "a924b428",
   "metadata": {},
   "outputs": [
    {
     "name": "stdout",
     "output_type": "stream",
     "text": [
      "19  We're not done yet !\n"
     ]
    }
   ],
   "source": [
    "print(null_values(\"Ever_Married\"),\" We're not done yet !\")"
   ]
  },
  {
   "cell_type": "markdown",
   "id": "9645e86f",
   "metadata": {},
   "source": [
    "#### We have to check the 36-46 range now"
   ]
  },
  {
   "cell_type": "code",
   "execution_count": 85,
   "id": "d590f26d",
   "metadata": {},
   "outputs": [
    {
     "data": {
      "text/plain": [
       "array(['36-46'], dtype=object)"
      ]
     },
     "execution_count": 85,
     "metadata": {},
     "output_type": "execute_result"
    }
   ],
   "source": [
    "df.query(\"Ever_Married.isna()\")['AgeCat'].unique()"
   ]
  },
  {
   "cell_type": "code",
   "execution_count": 86,
   "id": "881f686e",
   "metadata": {},
   "outputs": [
    {
     "name": "stdout",
     "output_type": "stream",
     "text": [
      "                                    ID\n",
      "AgeCat Profession    Ever_Married     \n",
      "36-46  Artist        No            320\n",
      "                     Yes           603\n",
      "       Doctor        No             70\n",
      "                     Yes           113\n",
      "       Engineer      No             83\n",
      "                     Yes           146\n",
      "       Entertainment No            105\n",
      "                     Yes           196\n",
      "       Executive     No              8\n",
      "                     Yes           152\n",
      "       Healthcare    No             55\n",
      "                     Yes            40\n",
      "       Homemaker     No             30\n",
      "                     Yes            40\n",
      "       Lawyer        No              2\n",
      "                     Yes             2\n",
      "       Marketing     No             43\n",
      "                     Yes            28\n"
     ]
    }
   ],
   "source": [
    "print(groupby_count(df.query(\"AgeCat=='36-46'\"), ['AgeCat','Profession','Ever_Married'], 'ID'))"
   ]
  },
  {
   "cell_type": "markdown",
   "id": "faaf2dcb",
   "metadata": {},
   "source": [
    "- For people in 36-46, they're mostly married, apart for those in the Marketing field"
   ]
  },
  {
   "cell_type": "code",
   "execution_count": 87,
   "id": "e9042555",
   "metadata": {},
   "outputs": [
    {
     "name": "stdout",
     "output_type": "stream",
     "text": [
      "0  (Let's go !) \n"
     ]
    }
   ],
   "source": [
    "x=df.query(\"AgeCat=='36-46' and Ever_Married.isna() and Profession != 'Marketing'\")\n",
    "y=df.query(\"AgeCat=='36-46' and Ever_Married.isna() and Profession == 'Marketing'\")\n",
    "\n",
    "x['Ever_Married']='Yes'\n",
    "y['Ever_Married']='No'\n",
    "\n",
    "df.update(x)\n",
    "df.update(y)\n",
    "\n",
    "print(null_values('Ever_Married'),\" (Let's go !) \")"
   ]
  },
  {
   "cell_type": "markdown",
   "id": "1a04d747",
   "metadata": {},
   "source": [
    "### Graduated"
   ]
  },
  {
   "cell_type": "code",
   "execution_count": 88,
   "id": "0d4fa598",
   "metadata": {},
   "outputs": [
    {
     "name": "stdout",
     "output_type": "stream",
     "text": [
      "78\n"
     ]
    }
   ],
   "source": [
    "print(null_values('Graduated'))"
   ]
  },
  {
   "cell_type": "code",
   "execution_count": 89,
   "id": "98875946",
   "metadata": {},
   "outputs": [
    {
     "name": "stdout",
     "output_type": "stream",
     "text": [
      "                    ID\n",
      "AgeCat Graduated      \n",
      "0-18   No          129\n",
      "       Yes           1\n",
      "19-25  No          744\n",
      "       Yes         110\n",
      "26-35  No          844\n",
      "       Yes        1086\n",
      "36-46  No          485\n",
      "       Yes        1582\n",
      "47+    No          820\n",
      "       Yes        2189\n"
     ]
    }
   ],
   "source": [
    "print(groupby_count(df, ['AgeCat','Graduated'], 'ID') )"
   ]
  },
  {
   "cell_type": "markdown",
   "id": "8d10c7e0",
   "metadata": {},
   "source": [
    "- 0-18 People Are mostly not graduated\n",
    "- 19-25 People are mostly not graduated\n",
    "- 47+ People are mostly graduated"
   ]
  },
  {
   "cell_type": "code",
   "execution_count": 91,
   "id": "6be5ad0c",
   "metadata": {},
   "outputs": [
    {
     "name": "stdout",
     "output_type": "stream",
     "text": [
      "                           ID\n",
      "Profession    Graduated      \n",
      "Artist        No          293\n",
      "              Yes        2209\n",
      "Doctor        No          288\n",
      "              Yes         395\n",
      "Engineer      No          385\n",
      "              Yes         310\n",
      "Entertainment No          345\n",
      "              Yes         592\n",
      "Executive     No          294\n",
      "              Yes         300\n",
      "Healthcare    No          844\n",
      "              Yes         476\n",
      "Homemaker     No          106\n",
      "              Yes         138\n",
      "Lawyer        No          230\n",
      "              Yes         381\n",
      "Marketing     No          173\n",
      "              Yes         114\n"
     ]
    }
   ],
   "source": [
    "print(groupby_count(df, ['Profession','Graduated'], 'ID') )"
   ]
  },
  {
   "cell_type": "markdown",
   "id": "761f3f78",
   "metadata": {},
   "source": [
    "- Most Artist are graduated"
   ]
  },
  {
   "cell_type": "code",
   "execution_count": 92,
   "id": "5cc6ba56",
   "metadata": {},
   "outputs": [
    {
     "name": "stdout",
     "output_type": "stream",
     "text": [
      "                          ID\n",
      "Ever_Married Graduated      \n",
      "No           No         1622\n",
      "             Yes        1677\n",
      "Yes          No         1400\n",
      "             Yes        3291\n"
     ]
    }
   ],
   "source": [
    "print(groupby_count(df, ['Ever_Married','Graduated'], 'ID') )"
   ]
  },
  {
   "cell_type": "markdown",
   "id": "79c6ddc7",
   "metadata": {},
   "source": [
    "- There is more chance that married people are Graduated"
   ]
  },
  {
   "cell_type": "code",
   "execution_count": 93,
   "id": "668dc2d7",
   "metadata": {},
   "outputs": [],
   "source": [
    "x=df.query(\"(AgeCat=='0-18' or AgeCat=='19-25') and Graduated.isna()\")\n",
    "x['Graduated']='No'\n",
    "df.update(x)\n",
    "\n",
    "x=df.query(\"Profession=='Artist' and Graduated.isna()\")\n",
    "x['Graduated']='Yes'\n",
    "df.update(x)\n",
    "\n",
    "x=df.query(\"(AgeCat=='47+') and Graduated.isna()\")\n",
    "x['Graduated']='Yes'\n",
    "df.update(x)\n",
    "\n",
    "x=df.query(\"Ever_Married=='Yes' and Graduated.isna()\")\n",
    "x['Graduated']='Yes'\n",
    "df.update(x)"
   ]
  },
  {
   "cell_type": "code",
   "execution_count": 96,
   "id": "855f19ae",
   "metadata": {},
   "outputs": [
    {
     "name": "stdout",
     "output_type": "stream",
     "text": [
      "14  Let's drop the rest !\n"
     ]
    }
   ],
   "source": [
    "print(null_values('Graduated'),\" Let's drop the rest !\")"
   ]
  },
  {
   "cell_type": "code",
   "execution_count": 97,
   "id": "dc2373c9",
   "metadata": {},
   "outputs": [],
   "source": [
    "df=df.drop(df.query(\"Graduated.isna()\").index)"
   ]
  },
  {
   "cell_type": "markdown",
   "id": "88a1c5f3",
   "metadata": {},
   "source": [
    "### Profession"
   ]
  },
  {
   "cell_type": "code",
   "execution_count": 98,
   "id": "d8299e3f",
   "metadata": {},
   "outputs": [
    {
     "data": {
      "text/plain": [
       "122"
      ]
     },
     "execution_count": 98,
     "metadata": {},
     "output_type": "execute_result"
    }
   ],
   "source": [
    "null_values(\"Profession\")"
   ]
  },
  {
   "cell_type": "code",
   "execution_count": 108,
   "id": "85147197",
   "metadata": {},
   "outputs": [
    {
     "data": {
      "text/plain": [
       "<AxesSubplot: xlabel='Profession', ylabel='count'>"
      ]
     },
     "execution_count": 108,
     "metadata": {},
     "output_type": "execute_result"
    },
    {
     "data": {
      "image/png": "[encoded data removed]",
      "text/plain": [
       "<Figure size 720x720 with 1 Axes>"
      ]
     },
     "metadata": {
      "needs_background": "light"
     },
     "output_type": "display_data"
    }
   ],
   "source": [
    "x=df.query(\"Age>60\")\n",
    "plt.figure(figsize=(10,10))\n",
    "sns.countplot(x[[\"Profession\"]],x=\"Profession\")"
   ]
  },
  {
   "cell_type": "code",
   "execution_count": 109,
   "id": "28cc427a",
   "metadata": {},
   "outputs": [
    {
     "name": "stdout",
     "output_type": "stream",
     "text": [
      "                               ID\n",
      "Spending_Score Profession        \n",
      "Average        Artist         127\n",
      "               Doctor          17\n",
      "               Engineer        20\n",
      "               Entertainment   50\n",
      "               Executive        7\n",
      "               Healthcare       3\n",
      "               Homemaker        3\n",
      "               Lawyer          16\n",
      "               Marketing        3\n",
      "High           Artist          77\n",
      "               Doctor           6\n",
      "               Engineer        13\n",
      "               Entertainment   16\n",
      "               Executive      120\n",
      "               Homemaker        3\n",
      "               Lawyer         304\n",
      "               Marketing        7\n",
      "Low            Artist         109\n",
      "               Doctor          15\n",
      "               Engineer        28\n",
      "               Entertainment   49\n",
      "               Executive       33\n",
      "               Healthcare       7\n",
      "               Homemaker        8\n",
      "               Lawyer         260\n",
      "               Marketing       15\n"
     ]
    }
   ],
   "source": [
    "print(groupby_count(x, ['Spending_Score','Profession'], 'ID') )"
   ]
  },
  {
   "cell_type": "markdown",
   "id": "43a79b85",
   "metadata": {},
   "source": [
    "People that are 60+ years old : \n",
    "- Are mostly Artist if they have an average Spending_Score\n",
    "- Are mostly Lawyers if they have a High/Low Spending_Score"
   ]
  },
  {
   "cell_type": "code",
   "execution_count": 110,
   "id": "8d31f111",
   "metadata": {},
   "outputs": [],
   "source": [
    "x=df.query(\"Age>60 and Profession.isna() and Spending_Score=='Average'\")\n",
    "x['Profession']='Artist'\n",
    "df.update(x)\n",
    "\n",
    "x=df.query(\"Age>60 and Profession.isna() and (Spending_Score=='Low' or Spending_Score=='High')\")\n",
    "x['Profession']='Lawyer'\n",
    "df.update(x)"
   ]
  },
  {
   "cell_type": "code",
   "execution_count": 112,
   "id": "71a47e41",
   "metadata": {},
   "outputs": [],
   "source": [
    "x=df.query(\"Graduated=='Yes' and Profession.isna()\")\n",
    "x['Profession']='Artist'\n",
    "df.update(x) ##Remember ! Most Artists are graduated"
   ]
  },
  {
   "cell_type": "code",
   "execution_count": 114,
   "id": "22a6cd39",
   "metadata": {},
   "outputs": [
    {
     "name": "stdout",
     "output_type": "stream",
     "text": [
      "                        ID\n",
      "AgeCat Profession         \n",
      "0-18   Artist            2\n",
      "       Doctor            9\n",
      "       Entertainment     5\n",
      "       Executive         3\n",
      "       Healthcare      105\n",
      "       Marketing         5\n",
      "19-25  Artist           42\n",
      "       Doctor           81\n",
      "       Engineer         40\n",
      "       Entertainment    51\n",
      "       Executive        17\n",
      "       Healthcare      542\n",
      "       Homemaker        14\n",
      "       Lawyer            3\n",
      "       Marketing        62\n",
      "26-35  Artist          402\n",
      "       Doctor          265\n",
      "       Engineer        192\n",
      "       Entertainment   239\n",
      "       Executive        66\n",
      "       Healthcare      551\n",
      "       Homemaker       111\n",
      "       Lawyer            2\n",
      "       Marketing        89\n",
      "36-46  Artist          949\n",
      "       Doctor          186\n",
      "       Engineer        233\n",
      "       Entertainment   301\n",
      "       Executive       161\n",
      "       Healthcare       95\n",
      "       Homemaker        71\n",
      "       Lawyer            4\n",
      "       Marketing        71\n",
      "47+    Artist         1177\n",
      "       Doctor          145\n",
      "       Engineer        233\n",
      "       Entertainment   349\n",
      "       Executive       352\n",
      "       Healthcare       37\n",
      "       Homemaker        50\n",
      "       Lawyer          626\n",
      "       Marketing        62\n"
     ]
    }
   ],
   "source": [
    "print(groupby_count(df, ['AgeCat','Profession'], 'ID') )"
   ]
  },
  {
   "cell_type": "code",
   "execution_count": 115,
   "id": "31c6e7f5",
   "metadata": {},
   "outputs": [],
   "source": [
    "x=df.query(\"(AgeCat=='0-18' or AgeCat=='19-25') and Profession.isna()\")\n",
    "x['Profession']='Healthcare'\n",
    "df.update(x) \n",
    "\n",
    "x=df.query(\"Age>47 and Age<60 and Profession.isna()\")\n",
    "x['Profession']=\"Artist\"\n",
    "df.update(x)"
   ]
  },
  {
   "cell_type": "code",
   "execution_count": 116,
   "id": "c9406c2d",
   "metadata": {},
   "outputs": [
    {
     "name": "stdout",
     "output_type": "stream",
     "text": [
      "                              ID\n",
      "Ever_Married Profession         \n",
      "No           Artist          730\n",
      "             Doctor          368\n",
      "             Engineer        269\n",
      "             Entertainment   355\n",
      "             Executive        37\n",
      "             Healthcare     1194\n",
      "             Homemaker       115\n",
      "             Lawyer           43\n",
      "             Marketing       188\n",
      "Yes          Artist         1851\n",
      "             Doctor          318\n",
      "             Engineer        429\n",
      "             Entertainment   590\n",
      "             Executive       562\n",
      "             Healthcare      153\n",
      "             Homemaker       131\n",
      "             Lawyer          592\n",
      "             Marketing       101\n"
     ]
    }
   ],
   "source": [
    "print(groupby_count(df, ['Ever_Married','Profession'], 'ID') )"
   ]
  },
  {
   "cell_type": "markdown",
   "id": "89375bbf",
   "metadata": {},
   "source": [
    "- Not Married People have a Healthcare profession\n",
    "- Married People are Artists ! (Again)"
   ]
  },
  {
   "cell_type": "code",
   "execution_count": 117,
   "id": "6825c15f",
   "metadata": {},
   "outputs": [],
   "source": [
    "x=df.query(\"Ever_Married=='Yes' and Profession.isna()\")\n",
    "x['Profession']=\"Artist\"\n",
    "df.update(x)\n",
    "\n",
    "x=df.query(\"Ever_Married=='No' and Profession.isna()\")\n",
    "x['Profession']=\"Healthcare\"\n",
    "df.update(x)"
   ]
  },
  {
   "cell_type": "markdown",
   "id": "755f74d4",
   "metadata": {},
   "source": [
    "### Work_Experience"
   ]
  },
  {
   "cell_type": "code",
   "execution_count": 119,
   "id": "f81a2967",
   "metadata": {},
   "outputs": [
    {
     "data": {
      "text/plain": [
       "828"
      ]
     },
     "execution_count": 119,
     "metadata": {},
     "output_type": "execute_result"
    }
   ],
   "source": [
    "null_values(\"Work_Experience\")"
   ]
  },
  {
   "cell_type": "code",
   "execution_count": 120,
   "id": "0e9f6f56",
   "metadata": {},
   "outputs": [
    {
     "data": {
      "text/plain": [
       "count    7226.000000\n",
       "mean        2.637697\n",
       "std         3.405054\n",
       "min         0.000000\n",
       "0%          0.000000\n",
       "10%         0.000000\n",
       "20%         0.000000\n",
       "30%         0.000000\n",
       "40%         1.000000\n",
       "50%         1.000000\n",
       "60%         1.000000\n",
       "70%         3.000000\n",
       "80%         6.000000\n",
       "90%         8.000000\n",
       "max        14.000000\n",
       "Name: Work_Experience, dtype: float64"
      ]
     },
     "execution_count": 120,
     "metadata": {},
     "output_type": "execute_result"
    }
   ],
   "source": [
    "df['Work_Experience'].describe(percentiles=[i*0.1 for i in range(10)])"
   ]
  },
  {
   "cell_type": "code",
   "execution_count": 121,
   "id": "c2aa05b4",
   "metadata": {},
   "outputs": [],
   "source": [
    "df['Work_Experience'] = df['Work_Experience'].fillna(method='pad')\n"
   ]
  },
  {
   "cell_type": "code",
   "execution_count": 122,
   "id": "d9664941",
   "metadata": {},
   "outputs": [
    {
     "data": {
      "text/plain": [
       "count    8054.000000\n",
       "mean        2.613236\n",
       "std         3.391398\n",
       "min         0.000000\n",
       "0%          0.000000\n",
       "10%         0.000000\n",
       "20%         0.000000\n",
       "30%         0.000000\n",
       "40%         1.000000\n",
       "50%         1.000000\n",
       "60%         1.000000\n",
       "70%         3.000000\n",
       "80%         6.000000\n",
       "90%         8.000000\n",
       "max        14.000000\n",
       "Name: Work_Experience, dtype: float64"
      ]
     },
     "execution_count": 122,
     "metadata": {},
     "output_type": "execute_result"
    }
   ],
   "source": [
    "df['Work_Experience'].describe(percentiles=[i*0.1 for i in range(10)])"
   ]
  },
  {
   "cell_type": "markdown",
   "id": "fd32e330",
   "metadata": {},
   "source": [
    "#### There weren't too many changes after using the \"Pad\" filling method, so it works and we can continue!"
   ]
  },
  {
   "cell_type": "markdown",
   "id": "74f55376",
   "metadata": {},
   "source": [
    "### Family_Size"
   ]
  },
  {
   "cell_type": "code",
   "execution_count": 123,
   "id": "3751496f",
   "metadata": {},
   "outputs": [
    {
     "data": {
      "text/plain": [
       "333"
      ]
     },
     "execution_count": 123,
     "metadata": {},
     "output_type": "execute_result"
    }
   ],
   "source": [
    "null_values(\"Family_Size\")"
   ]
  },
  {
   "cell_type": "code",
   "execution_count": 124,
   "id": "0c83446d",
   "metadata": {},
   "outputs": [
    {
     "data": {
      "text/plain": [
       "count    7721.000000\n",
       "mean        2.849631\n",
       "std         1.529351\n",
       "min         1.000000\n",
       "0%          1.000000\n",
       "10%         1.000000\n",
       "20%         2.000000\n",
       "30%         2.000000\n",
       "40%         2.000000\n",
       "50%         3.000000\n",
       "60%         3.000000\n",
       "70%         4.000000\n",
       "80%         4.000000\n",
       "90%         5.000000\n",
       "max         9.000000\n",
       "Name: Family_Size, dtype: float64"
      ]
     },
     "execution_count": 124,
     "metadata": {},
     "output_type": "execute_result"
    }
   ],
   "source": [
    "df['Family_Size'].describe(percentiles=[i*0.1 for i in range(10)])"
   ]
  },
  {
   "cell_type": "code",
   "execution_count": 125,
   "id": "34c9d793",
   "metadata": {},
   "outputs": [],
   "source": [
    "df['Family_Size'] = df['Family_Size'].fillna(method='pad')\n"
   ]
  },
  {
   "cell_type": "code",
   "execution_count": 126,
   "id": "220b87fb",
   "metadata": {},
   "outputs": [
    {
     "data": {
      "text/plain": [
       "count    8054.000000\n",
       "mean        2.846288\n",
       "std         1.528556\n",
       "min         1.000000\n",
       "0%          1.000000\n",
       "10%         1.000000\n",
       "20%         2.000000\n",
       "30%         2.000000\n",
       "40%         2.000000\n",
       "50%         3.000000\n",
       "60%         3.000000\n",
       "70%         4.000000\n",
       "80%         4.000000\n",
       "90%         5.000000\n",
       "max         9.000000\n",
       "Name: Family_Size, dtype: float64"
      ]
     },
     "execution_count": 126,
     "metadata": {},
     "output_type": "execute_result"
    }
   ],
   "source": [
    "df['Family_Size'].describe(percentiles=[i*0.1 for i in range(10)])"
   ]
  },
  {
   "cell_type": "markdown",
   "id": "7afb088f",
   "metadata": {},
   "source": [
    "## Here we go ! \n",
    "## Next Step : Preprocessing"
   ]
  },
  {
   "cell_type": "markdown",
   "id": "5eafd3fb",
   "metadata": {},
   "source": [
    "We will encode our discrete fields for our machine learning model so things like : \n",
    "- (Yes/No) will become (1/0)\n",
    "\n",
    "Also we will drop \"ID\" column since it doesn't bring any usefull information, same for the \"AgeCat\" field."
   ]
  },
  {
   "cell_type": "code",
   "execution_count": 127,
   "id": "bba94016",
   "metadata": {},
   "outputs": [
    {
     "data": {
      "text/html": [
       "<div><div id=3efb59e4-da35-4c16-b492-26c4a8a20d3f style=\"display:none; background-color:#9D6CFF; color:white; width:200px; height:30px; padding-left:5px; border-radius:4px; flex-direction:row; justify-content:space-around; align-items:center;\" onmouseover=\"this.style.backgroundColor='#BA9BF8'\" onmouseout=\"this.style.backgroundColor='#9D6CFF'\" onclick=\"window.commands?.execute('create-mitosheet-from-dataframe-output');\">See Full Dataframe in Mito</div> <script> if (window.commands?.hasCommand('create-mitosheet-from-dataframe-output')) document.getElementById('3efb59e4-da35-4c16-b492-26c4a8a20d3f').style.display = 'flex' </script> <table border=\"1\" class=\"dataframe\">\n",
       "  <thead>\n",
       "    <tr style=\"text-align: right;\">\n",
       "      <th></th>\n",
       "      <th>Gender</th>\n",
       "      <th>Ever_Married</th>\n",
       "      <th>Age</th>\n",
       "      <th>Graduated</th>\n",
       "      <th>Profession</th>\n",
       "      <th>Work_Experience</th>\n",
       "      <th>Spending_Score</th>\n",
       "      <th>Family_Size</th>\n",
       "    </tr>\n",
       "  </thead>\n",
       "  <tbody>\n",
       "    <tr>\n",
       "      <th>0</th>\n",
       "      <td>1</td>\n",
       "      <td>0</td>\n",
       "      <td>22.0</td>\n",
       "      <td>0</td>\n",
       "      <td>1</td>\n",
       "      <td>1.0</td>\n",
       "      <td>1</td>\n",
       "      <td>4.0</td>\n",
       "    </tr>\n",
       "    <tr>\n",
       "      <th>1</th>\n",
       "      <td>0</td>\n",
       "      <td>1</td>\n",
       "      <td>38.0</td>\n",
       "      <td>1</td>\n",
       "      <td>2</td>\n",
       "      <td>1.0</td>\n",
       "      <td>2</td>\n",
       "      <td>3.0</td>\n",
       "    </tr>\n",
       "    <tr>\n",
       "      <th>2</th>\n",
       "      <td>0</td>\n",
       "      <td>1</td>\n",
       "      <td>67.0</td>\n",
       "      <td>1</td>\n",
       "      <td>2</td>\n",
       "      <td>1.0</td>\n",
       "      <td>1</td>\n",
       "      <td>1.0</td>\n",
       "    </tr>\n",
       "    <tr>\n",
       "      <th>3</th>\n",
       "      <td>1</td>\n",
       "      <td>1</td>\n",
       "      <td>67.0</td>\n",
       "      <td>1</td>\n",
       "      <td>3</td>\n",
       "      <td>0.0</td>\n",
       "      <td>3</td>\n",
       "      <td>2.0</td>\n",
       "    </tr>\n",
       "    <tr>\n",
       "      <th>4</th>\n",
       "      <td>0</td>\n",
       "      <td>1</td>\n",
       "      <td>40.0</td>\n",
       "      <td>1</td>\n",
       "      <td>4</td>\n",
       "      <td>0.0</td>\n",
       "      <td>3</td>\n",
       "      <td>6.0</td>\n",
       "    </tr>\n",
       "  </tbody>\n",
       "</table></div>"
      ],
      "text/plain": [
       "   Gender  Ever_Married   Age  Graduated  Profession  Work_Experience  \\\n",
       "0       1             0  22.0          0           1              1.0   \n",
       "1       0             1  38.0          1           2              1.0   \n",
       "2       0             1  67.0          1           2              1.0   \n",
       "3       1             1  67.0          1           3              0.0   \n",
       "4       0             1  40.0          1           4              0.0   \n",
       "\n",
       "   Spending_Score  Family_Size  \n",
       "0               1          4.0  \n",
       "1               2          3.0  \n",
       "2               1          1.0  \n",
       "3               3          2.0  \n",
       "4               3          6.0  "
      ]
     },
     "execution_count": 127,
     "metadata": {},
     "output_type": "execute_result"
    }
   ],
   "source": [
    "original_df=df\n",
    "df=df.drop(labels=['ID','AgeCat'],axis=1)\n",
    "L=list(df['Profession'].unique())\n",
    "\n",
    "\n",
    "df['Profession']=df['Profession'].apply(lambda x:L.index(x)+1 )\n",
    "\n",
    "\n",
    "df['Ever_Married']=df['Ever_Married'].replace(('Yes','No'),(1,0))\n",
    "df['Graduated']=df['Graduated'].replace(('Yes','No'),(1,0))\n",
    "df['Gender']=df['Gender'].replace(('Male','Female'),(1,0))\n",
    "\n",
    "\n",
    "L=list(df['Spending_Score'].unique())\n",
    "df['Spending_Score']=df['Spending_Score'].apply(lambda x:L.index(x)+1 )\n",
    "\n",
    "df.head(5)"
   ]
  },
  {
   "cell_type": "markdown",
   "id": "fcf317df",
   "metadata": {},
   "source": [
    "## Next Step : Clustering"
   ]
  },
  {
   "cell_type": "markdown",
   "id": "c806e1e9",
   "metadata": {},
   "source": [
    "### What's a Clustering Model ?\n",
    "\n",
    "\n",
    "A clustering model is a type of unsupervised machine learning algorithm that groups data points into clusters based on their similarity. \n",
    "\n",
    "Clustering models are used to identify patterns and group similar data points together. Clustering can be used for a variety of tasks, such as segmenting customers into different groups, identifying outliers, and finding relationships between variables.\n",
    "\n",
    "### Which model will we use ? \n",
    "\n",
    "Since our dataset is a mix between numerical and categorical columns..\n",
    "\n",
    "Just as a reminder : \n",
    "- A numerical variable is a type of data that is represented by numbers. Examples of numerical variables include age, height, weight, and income.\n",
    "\n",
    "- A categorical variable is a type of data that is represented by categories or labels. Examples of categorical variables include gender, race, religion, and marital status.\n",
    "\n",
    "A Clustering model that can handle both of these is K-Prototypes\n",
    "\n",
    "#### Example here with a Clustering model for numerical values (K-MEANS) : "
   ]
  },
  {
   "attachments": {
    "1_eNWN14P6oQwySgxLuMqB9g.png": {
     "image/png": "[encoded data removed]"
    }
   },
   "cell_type": "markdown",
   "id": "21167970",
   "metadata": {},
   "source": [
    "![1_eNWN14P6oQwySgxLuMqB9g.png](attachment:1_eNWN14P6oQwySgxLuMqB9g.png)"
   ]
  },
  {
   "cell_type": "markdown",
   "id": "17493fe6",
   "metadata": {},
   "source": [
    "\n",
    "### K-Prototypes\n",
    "\n",
    "K-Prototypes is a clustering algorithm that combines the features of both K-Means (Numerical Values) and K-Modes (Categorical Values) algorithms.\n",
    "\n",
    "It works by assigning each data point to a cluster based on its similarity to the cluster's prototype, which is a combination of the mean of the numerical variables and the mode of the categorical variables. This allows it to identify clusters in datasets with mixed types of data, making it a powerful tool for exploratory data analysis.\n",
    "\n",
    "For this, we will be using the kmodes library."
   ]
  },
  {
   "cell_type": "markdown",
   "id": "336878b5",
   "metadata": {},
   "source": [
    "## Let's get started ! "
   ]
  },
  {
   "cell_type": "code",
   "execution_count": 128,
   "id": "c347a6f4",
   "metadata": {},
   "outputs": [],
   "source": [
    "from kmodes.kprototypes import KPrototypes"
   ]
  },
  {
   "cell_type": "code",
   "execution_count": 129,
   "id": "6c25dbd2",
   "metadata": {},
   "outputs": [
    {
     "data": {
      "text/html": [
       "<div><div id=5c343e03-f7bd-4394-b44a-42d861110b9a style=\"display:none; background-color:#9D6CFF; color:white; width:200px; height:30px; padding-left:5px; border-radius:4px; flex-direction:row; justify-content:space-around; align-items:center;\" onmouseover=\"this.style.backgroundColor='#BA9BF8'\" onmouseout=\"this.style.backgroundColor='#9D6CFF'\" onclick=\"window.commands?.execute('create-mitosheet-from-dataframe-output');\">See Full Dataframe in Mito</div> <script> if (window.commands?.hasCommand('create-mitosheet-from-dataframe-output')) document.getElementById('5c343e03-f7bd-4394-b44a-42d861110b9a').style.display = 'flex' </script> <table border=\"1\" class=\"dataframe\">\n",
       "  <thead>\n",
       "    <tr style=\"text-align: right;\">\n",
       "      <th></th>\n",
       "      <th>Gender</th>\n",
       "      <th>Ever_Married</th>\n",
       "      <th>Age</th>\n",
       "      <th>Graduated</th>\n",
       "      <th>Profession</th>\n",
       "      <th>Work_Experience</th>\n",
       "      <th>Spending_Score</th>\n",
       "      <th>Family_Size</th>\n",
       "    </tr>\n",
       "  </thead>\n",
       "  <tbody>\n",
       "    <tr>\n",
       "      <th>0</th>\n",
       "      <td>1</td>\n",
       "      <td>0</td>\n",
       "      <td>22.0</td>\n",
       "      <td>0</td>\n",
       "      <td>1</td>\n",
       "      <td>1.0</td>\n",
       "      <td>1</td>\n",
       "      <td>4.0</td>\n",
       "    </tr>\n",
       "    <tr>\n",
       "      <th>1</th>\n",
       "      <td>0</td>\n",
       "      <td>1</td>\n",
       "      <td>38.0</td>\n",
       "      <td>1</td>\n",
       "      <td>2</td>\n",
       "      <td>1.0</td>\n",
       "      <td>2</td>\n",
       "      <td>3.0</td>\n",
       "    </tr>\n",
       "  </tbody>\n",
       "</table></div>"
      ],
      "text/plain": [
       "   Gender  Ever_Married   Age  Graduated  Profession  Work_Experience  \\\n",
       "0       1             0  22.0          0           1              1.0   \n",
       "1       0             1  38.0          1           2              1.0   \n",
       "\n",
       "   Spending_Score  Family_Size  \n",
       "0               1          4.0  \n",
       "1               2          3.0  "
      ]
     },
     "execution_count": 129,
     "metadata": {},
     "output_type": "execute_result"
    }
   ],
   "source": [
    "df.head(2)"
   ]
  },
  {
   "cell_type": "code",
   "execution_count": 130,
   "id": "a80ac4fe",
   "metadata": {},
   "outputs": [],
   "source": [
    "categorical_features_idx=[0,1,3,4,5,6] #Categorical columns of our dataset\n",
    "mark_array=df.values"
   ]
  },
  {
   "cell_type": "code",
   "execution_count": 131,
   "id": "50c554fd",
   "metadata": {},
   "outputs": [
    {
     "name": "stdout",
     "output_type": "stream",
     "text": [
      "Initialization method and algorithm are deterministic. Setting n_init to 1.\n",
      "Init: initializing centroids\n",
      "Init: initializing clusters\n",
      "Starting iterations...\n",
      "Run: 1, iteration: 1/20, moves: 2024, ncost: 316277.1895597016\n",
      "Run: 1, iteration: 2/20, moves: 881, ncost: 298102.8559032491\n",
      "Run: 1, iteration: 3/20, moves: 180, ncost: 297157.4477834406\n",
      "Run: 1, iteration: 4/20, moves: 92, ncost: 296780.4127448878\n",
      "Run: 1, iteration: 5/20, moves: 55, ncost: 296484.4970682157\n",
      "Run: 1, iteration: 6/20, moves: 29, ncost: 296384.69077076565\n",
      "Run: 1, iteration: 7/20, moves: 17, ncost: 296372.0370203669\n",
      "Run: 1, iteration: 8/20, moves: 0, ncost: 296372.0370203669\n",
      "Init: initializing centroids\n",
      "Init: initializing clusters\n",
      "Starting iterations...\n",
      "Run: 2, iteration: 1/20, moves: 1214, ncost: 300886.8014268621\n",
      "Run: 2, iteration: 2/20, moves: 229, ncost: 296437.6798723265\n",
      "Run: 2, iteration: 3/20, moves: 28, ncost: 296422.8137012518\n",
      "Run: 2, iteration: 4/20, moves: 18, ncost: 296409.5277723897\n",
      "Run: 2, iteration: 5/20, moves: 5, ncost: 296407.5393337245\n",
      "Run: 2, iteration: 6/20, moves: 13, ncost: 296402.6402571528\n",
      "Run: 2, iteration: 7/20, moves: 2, ncost: 296402.49626332306\n",
      "Run: 2, iteration: 8/20, moves: 0, ncost: 296402.49626332306\n",
      "Init: initializing centroids\n",
      "Init: initializing clusters\n",
      "Starting iterations...\n",
      "Run: 3, iteration: 1/20, moves: 1703, ncost: 307532.8670708776\n",
      "Run: 3, iteration: 2/20, moves: 411, ncost: 301139.328835271\n",
      "Run: 3, iteration: 3/20, moves: 235, ncost: 298287.82690511824\n",
      "Run: 3, iteration: 4/20, moves: 125, ncost: 297247.9865252719\n",
      "Run: 3, iteration: 5/20, moves: 98, ncost: 296828.6345170463\n",
      "Run: 3, iteration: 6/20, moves: 54, ncost: 296568.4083894175\n",
      "Run: 3, iteration: 7/20, moves: 35, ncost: 296394.7532953407\n",
      "Run: 3, iteration: 8/20, moves: 24, ncost: 296372.0370203669\n",
      "Run: 3, iteration: 9/20, moves: 0, ncost: 296372.0370203669\n",
      "Init: initializing centroids\n",
      "Init: initializing clusters\n",
      "Starting iterations...\n",
      "Run: 4, iteration: 1/20, moves: 1021, ncost: 349497.3822385512\n",
      "Run: 4, iteration: 2/20, moves: 953, ncost: 325511.3252019324\n",
      "Run: 4, iteration: 3/20, moves: 799, ncost: 305464.3121384971\n",
      "Run: 4, iteration: 4/20, moves: 420, ncost: 299936.5936537408\n",
      "Run: 4, iteration: 5/20, moves: 273, ncost: 297874.5337142043\n",
      "Run: 4, iteration: 6/20, moves: 158, ncost: 297167.3414227504\n",
      "Run: 4, iteration: 7/20, moves: 131, ncost: 296666.11988859624\n",
      "Run: 4, iteration: 8/20, moves: 68, ncost: 296538.01130994357\n",
      "Run: 4, iteration: 9/20, moves: 29, ncost: 296506.42769583606\n",
      "Run: 4, iteration: 10/20, moves: 20, ncost: 296495.78426407825\n",
      "Run: 4, iteration: 11/20, moves: 3, ncost: 296495.4596890435\n",
      "Run: 4, iteration: 12/20, moves: 0, ncost: 296495.4596890435\n",
      "Init: initializing centroids\n",
      "Init: initializing clusters\n",
      "Starting iterations...\n",
      "Run: 5, iteration: 1/20, moves: 1447, ncost: 370456.6041918836\n",
      "Run: 5, iteration: 2/20, moves: 965, ncost: 341692.41841838777\n",
      "Run: 5, iteration: 3/20, moves: 840, ncost: 320352.0749186154\n",
      "Run: 5, iteration: 4/20, moves: 719, ncost: 303362.67197284335\n",
      "Run: 5, iteration: 5/20, moves: 362, ncost: 298858.0754593174\n",
      "Run: 5, iteration: 6/20, moves: 224, ncost: 297610.54351562425\n",
      "Run: 5, iteration: 7/20, moves: 138, ncost: 296978.0030735906\n",
      "Run: 5, iteration: 8/20, moves: 116, ncost: 296609.1585910922\n",
      "Run: 5, iteration: 9/20, moves: 53, ncost: 296526.1218088928\n",
      "Run: 5, iteration: 10/20, moves: 24, ncost: 296502.83376695734\n",
      "Run: 5, iteration: 11/20, moves: 15, ncost: 296495.78426407825\n",
      "Run: 5, iteration: 12/20, moves: 3, ncost: 296495.4596890435\n",
      "Run: 5, iteration: 13/20, moves: 0, ncost: 296495.4596890435\n",
      "Init: initializing centroids\n",
      "Init: initializing clusters\n",
      "Starting iterations...\n",
      "Run: 6, iteration: 1/20, moves: 2620, ncost: 300354.3897441178\n",
      "Run: 6, iteration: 2/20, moves: 385, ncost: 296390.8699891799\n",
      "Run: 6, iteration: 3/20, moves: 24, ncost: 296372.0370203669\n",
      "Run: 6, iteration: 4/20, moves: 0, ncost: 296372.0370203669\n",
      "Init: initializing centroids\n",
      "Init: initializing clusters\n",
      "Starting iterations...\n",
      "Run: 7, iteration: 1/20, moves: 1899, ncost: 443781.5960620301\n",
      "Run: 7, iteration: 2/20, moves: 1164, ncost: 382423.2028478093\n",
      "Run: 7, iteration: 3/20, moves: 949, ncost: 354695.9355795666\n",
      "Run: 7, iteration: 4/20, moves: 933, ncost: 331541.5919725922\n",
      "Run: 7, iteration: 5/20, moves: 830, ncost: 309281.20163580106\n",
      "Run: 7, iteration: 6/20, moves: 522, ncost: 301105.61780202104\n",
      "Run: 7, iteration: 7/20, moves: 314, ncost: 298103.37314848485\n",
      "Run: 7, iteration: 8/20, moves: 175, ncost: 297308.3891737139\n",
      "Run: 7, iteration: 9/20, moves: 135, ncost: 296740.4963769003\n",
      "Run: 7, iteration: 10/20, moves: 81, ncost: 296555.80102690833\n",
      "Run: 7, iteration: 11/20, moves: 32, ncost: 296516.4146022158\n",
      "Run: 7, iteration: 12/20, moves: 24, ncost: 296497.94665418984\n",
      "Run: 7, iteration: 13/20, moves: 9, ncost: 296495.4596890435\n",
      "Run: 7, iteration: 14/20, moves: 0, ncost: 296495.4596890435\n",
      "Init: initializing centroids\n",
      "Init: initializing clusters\n",
      "Starting iterations...\n",
      "Run: 8, iteration: 1/20, moves: 1485, ncost: 305381.6700575378\n",
      "Run: 8, iteration: 2/20, moves: 559, ncost: 297062.440720577\n",
      "Run: 8, iteration: 3/20, moves: 115, ncost: 296475.1015849121\n",
      "Run: 8, iteration: 4/20, moves: 33, ncost: 296384.69077076565\n",
      "Run: 8, iteration: 5/20, moves: 17, ncost: 296372.0370203669\n",
      "Run: 8, iteration: 6/20, moves: 0, ncost: 296372.0370203669\n",
      "Init: initializing centroids\n",
      "Init: initializing clusters\n",
      "Starting iterations...\n",
      "Run: 9, iteration: 1/20, moves: 2489, ncost: 349199.6830882437\n",
      "Run: 9, iteration: 2/20, moves: 1016, ncost: 308126.2641563622\n",
      "Run: 9, iteration: 3/20, moves: 317, ncost: 299812.35445675586\n",
      "Run: 9, iteration: 4/20, moves: 233, ncost: 297450.99449703324\n",
      "Run: 9, iteration: 5/20, moves: 131, ncost: 296836.4844749593\n",
      "Run: 9, iteration: 6/20, moves: 102, ncost: 296564.82367255364\n",
      "Run: 9, iteration: 7/20, moves: 37, ncost: 296516.4146022158\n",
      "Run: 9, iteration: 8/20, moves: 24, ncost: 296497.94665418984\n",
      "Run: 9, iteration: 9/20, moves: 9, ncost: 296495.4596890435\n",
      "Run: 9, iteration: 10/20, moves: 0, ncost: 296495.4596890435\n",
      "Init: initializing centroids\n",
      "Init: initializing clusters\n",
      "Starting iterations...\n",
      "Run: 10, iteration: 1/20, moves: 1312, ncost: 309206.7202555532\n",
      "Run: 10, iteration: 2/20, moves: 459, ncost: 298293.86717290577\n",
      "Run: 10, iteration: 3/20, moves: 211, ncost: 296642.1843437519\n",
      "Run: 10, iteration: 4/20, moves: 65, ncost: 296522.3917004534\n",
      "Run: 10, iteration: 5/20, moves: 21, ncost: 296502.83376695734\n",
      "Run: 10, iteration: 6/20, moves: 15, ncost: 296495.78426407825\n",
      "Run: 10, iteration: 7/20, moves: 3, ncost: 296495.4596890435\n",
      "Run: 10, iteration: 8/20, moves: 0, ncost: 296495.4596890435\n",
      "Best run was number 1\n"
     ]
    }
   ],
   "source": [
    "kproto = KPrototypes(n_clusters=4, verbose=2, max_iter=20).fit(mark_array, categorical=categorical_features_idx)\n"
   ]
  },
  {
   "cell_type": "markdown",
   "id": "0981474c",
   "metadata": {},
   "source": [
    "### Cluster Analysis : Let's de-code the dataset values and try to understand it ! "
   ]
  },
  {
   "cell_type": "code",
   "execution_count": 132,
   "id": "bd401be5",
   "metadata": {},
   "outputs": [],
   "source": [
    "clusters = kproto.predict(mark_array, categorical=categorical_features_idx)\n",
    "df['cluster'] = list(clusters)\n",
    "df['Profession']=original_df['Profession']\n",
    "df['Gender']=original_df['Gender']\n",
    "df['Ever_Married']=original_df['Ever_Married']\n",
    "df['Graduated']=original_df['Graduated']\n",
    "df['Spending_Score']=original_df['Spending_Score']\n",
    "df['ID']=original_df['ID']"
   ]
  },
  {
   "cell_type": "code",
   "execution_count": 134,
   "id": "9619683c",
   "metadata": {},
   "outputs": [
    {
     "data": {
      "image/png": "[encoded data removed]",
      "text/plain": [
       "<Figure size 1440x1080 with 1 Axes>"
      ]
     },
     "metadata": {
      "needs_background": "light"
     },
     "output_type": "display_data"
    },
    {
     "data": {
      "image/png": "[encoded data removed]",
      "text/plain": [
       "<Figure size 1440x1080 with 1 Axes>"
      ]
     },
     "metadata": {
      "needs_background": "light"
     },
     "output_type": "display_data"
    },
    {
     "data": {
      "image/png": "[encoded data removed]",
      "text/plain": [
       "<Figure size 1440x1080 with 1 Axes>"
      ]
     },
     "metadata": {
      "needs_background": "light"
     },
     "output_type": "display_data"
    },
    {
     "data": {
      "image/png": "[encoded data removed]",
      "text/plain": [
       "<Figure size 1440x1080 with 1 Axes>"
      ]
     },
     "metadata": {
      "needs_background": "light"
     },
     "output_type": "display_data"
    }
   ],
   "source": [
    "for i in [0,1,2,3]:\n",
    "    plt.figure(figsize=(20,15))\n",
    "    plt.subplot(2,2,i+1)\n",
    "    plt.title(\"Cluster n°\"+str(i))\n",
    "    df.query(\"cluster==\"+str(i))\n",
    "    sns.countplot(df.query(\"cluster==\"+str(i)),x=\"Profession\")"
   ]
  },
  {
   "cell_type": "code",
   "execution_count": 146,
   "id": "fbaf2d02",
   "metadata": {},
   "outputs": [
    {
     "data": {
      "image/png": "[encoded data removed]",
      "text/plain": [
       "<Figure size 1440x1080 with 1 Axes>"
      ]
     },
     "metadata": {},
     "output_type": "display_data"
    },
    {
     "data": {
      "image/png": "[encoded data removed]",
      "text/plain": [
       "<Figure size 1440x1080 with 1 Axes>"
      ]
     },
     "metadata": {},
     "output_type": "display_data"
    },
    {
     "data": {
      "image/png": "[encoded data removed]",
      "text/plain": [
       "<Figure size 1440x1080 with 1 Axes>"
      ]
     },
     "metadata": {},
     "output_type": "display_data"
    },
    {
     "data": {
      "image/png": "[encoded data removed]",
      "text/plain": [
       "<Figure size 1440x1080 with 1 Axes>"
      ]
     },
     "metadata": {},
     "output_type": "display_data"
    }
   ],
   "source": [
    "for i in [0,1,2,3]:\n",
    "    plt.figure(figsize=(20,15))\n",
    "    plt.subplot(2,2,i+1)\n",
    "    data = df.query(\"cluster==\"+str(i)).Ever_Married.value_counts()\n",
    "\n",
    "\n",
    "    plt.pie(data, labels=data.index, autopct='%1.1f%%')\n",
    "    plt.title('Ever Married for Cluster n°'+str(i))\n",
    "    plt.show()"
   ]
  },
  {
   "cell_type": "code",
   "execution_count": 149,
   "id": "89b07d07",
   "metadata": {},
   "outputs": [
    {
     "data": {
      "image/png": "[encoded data removed]",
      "text/plain": [
       "<Figure size 1440x1080 with 1 Axes>"
      ]
     },
     "metadata": {},
     "output_type": "display_data"
    },
    {
     "data": {
      "image/png": "[encoded data removed]",
      "text/plain": [
       "<Figure size 1440x1080 with 1 Axes>"
      ]
     },
     "metadata": {},
     "output_type": "display_data"
    },
    {
     "data": {
      "image/png": "[encoded data removed]",
      "text/plain": [
       "<Figure size 1440x1080 with 1 Axes>"
      ]
     },
     "metadata": {},
     "output_type": "display_data"
    },
    {
     "data": {
      "image/png": "[encoded data removed]",
      "text/plain": [
       "<Figure size 1440x1080 with 1 Axes>"
      ]
     },
     "metadata": {},
     "output_type": "display_data"
    }
   ],
   "source": [
    "for i in [0,1,2,3]:\n",
    "    plt.figure(figsize=(20,15))\n",
    "    plt.subplot(2,2,i+1)\n",
    "    data = df.query(\"cluster==\"+str(i)).Graduated.value_counts()\n",
    "\n",
    "\n",
    "    plt.pie(data, labels=data.index, autopct='%1.1f%%')\n",
    "    plt.title('Graduated for Cluster n°'+str(i))\n",
    "    plt.show()"
   ]
  },
  {
   "cell_type": "code",
   "execution_count": 150,
   "id": "4e64ca3d",
   "metadata": {},
   "outputs": [
    {
     "data": {
      "image/png": "[encoded data removed]",
      "text/plain": [
       "<Figure size 1440x1080 with 1 Axes>"
      ]
     },
     "metadata": {},
     "output_type": "display_data"
    },
    {
     "data": {
      "image/png": "[encoded data removed]",
      "text/plain": [
       "<Figure size 1440x1080 with 1 Axes>"
      ]
     },
     "metadata": {},
     "output_type": "display_data"
    },
    {
     "data": {
      "image/png": "[encoded data removed]",
      "text/plain": [
       "<Figure size 1440x1080 with 1 Axes>"
      ]
     },
     "metadata": {},
     "output_type": "display_data"
    },
    {
     "data": {
      "image/png": "[encoded data removed]",
      "text/plain": [
       "<Figure size 1440x1080 with 1 Axes>"
      ]
     },
     "metadata": {},
     "output_type": "display_data"
    }
   ],
   "source": [
    "for i in [0,1,2,3]:\n",
    "    plt.figure(figsize=(20,15))\n",
    "    plt.subplot(2,2,i+1)\n",
    "    data = df.query(\"cluster==\"+str(i)).Spending_Score.value_counts()\n",
    "\n",
    "\n",
    "    plt.pie(data, labels=data.index, autopct='%1.1f%%')\n",
    "    plt.title('Spending Score for Cluster n°'+str(i))\n",
    "    plt.show()"
   ]
  },
  {
   "cell_type": "code",
   "execution_count": 151,
   "id": "a9d85219",
   "metadata": {},
   "outputs": [
    {
     "data": {
      "image/png": "[encoded data removed]",
      "text/plain": [
       "<Figure size 1440x1080 with 1 Axes>"
      ]
     },
     "metadata": {
      "needs_background": "light"
     },
     "output_type": "display_data"
    },
    {
     "data": {
      "image/png": "[encoded data removed]",
      "text/plain": [
       "<Figure size 1440x1080 with 1 Axes>"
      ]
     },
     "metadata": {
      "needs_background": "light"
     },
     "output_type": "display_data"
    },
    {
     "data": {
      "image/png": "[encoded data removed]",
      "text/plain": [
       "<Figure size 1440x1080 with 1 Axes>"
      ]
     },
     "metadata": {
      "needs_background": "light"
     },
     "output_type": "display_data"
    },
    {
     "data": {
      "image/png": "[encoded data removed]",
      "text/plain": [
       "<Figure size 1440x1080 with 1 Axes>"
      ]
     },
     "metadata": {
      "needs_background": "light"
     },
     "output_type": "display_data"
    }
   ],
   "source": [
    "for i in [0,1,2,3]:\n",
    "    plt.figure(figsize=(20,15))\n",
    "    plt.subplot(2,2,i+1)\n",
    "    plt.title(\"Cluster n°\"+str(i))\n",
    "    df.query(\"cluster==\"+str(i))\n",
    "    sns.countplot(df.query(\"cluster==\"+str(i)),x=\"Family_Size\")"
   ]
  },
  {
   "cell_type": "code",
   "execution_count": 154,
   "id": "daf3c7d3",
   "metadata": {},
   "outputs": [
    {
     "name": "stdout",
     "output_type": "stream",
     "text": [
      "               Age\n",
      "cluster           \n",
      "0        40.252721\n",
      "1        26.537916\n",
      "2        74.789620\n",
      "3        54.276280\n"
     ]
    }
   ],
   "source": [
    "print(df[['cluster','Age']].groupby(by=['cluster']).mean())"
   ]
  },
  {
   "cell_type": "markdown",
   "id": "7c6d6db0",
   "metadata": {},
   "source": [
    "### Summary of Clusters' features"
   ]
  },
  {
   "cell_type": "markdown",
   "id": "5dce8e6c",
   "metadata": {},
   "source": [
    "#### Cluster 0\n",
    "<u>Jobs :</u> Mostly Artist - Entertainment - Engineer\n",
    "\n",
    "<u>Married ? :</u> Yes 66 % / No 34 % \n",
    "\n",
    "<u>Graduated ? :</u> Yes 76 % / No 24 % \n",
    "\n",
    "<u>Spending Score :</u>  Low 55% / Average 34 % / High 11 % \n",
    "\n",
    "<u>Family Size :</u> Mostly 2 / Sometimes 1 / Sometimes 3  \n",
    "\n",
    "<u>Average Age :</u> 40\n",
    "\n",
    "<u>Description :</u>\n",
    "\n",
    "Cluster 0 is characterized by customers who are mostly in the artistic, entertainment and engineering fields, have a low and average spending score, and are mostly married and graduated, with an average age of 40. \n",
    "\n",
    "They are likely to be budget-conscious shoppers but also willing to spend on average priced items. They are likely to have a family and are in the prime of their career, likely to have a balance between work and personal life.\n"
   ]
  },
  {
   "cell_type": "markdown",
   "id": "47bafdd3",
   "metadata": {},
   "source": [
    "#### Cluster 1\n",
    "<u>Jobs :</u> Mostly Healthcare - Doctor - Artist\n",
    "\n",
    "<u>Married ? :</u> Yes 18 % / No 82 % \n",
    "\n",
    "<u>Graduated ? :</u> Yes 37 % / No 63 % \n",
    "\n",
    "<u>Spending Score :</u>  Low 88% / Average 8 % / High 4 % \n",
    "\n",
    "<u>Family Size :</u> Mostly 4 or 3 or 2   \n",
    "\n",
    "<u>Average Age :</u> 26\n",
    "\n",
    "<u>Description :</u>\n",
    "\n",
    "Cluster 1 is characterized by customers who are mostly in the healthcare and artistic fields, have a low spending score, and are mostly not married and not graduated, with a young average age.\n",
    "\n",
    "They are mostly budget-conscious shoppers and have a higher chance to be family-oriented.\n"
   ]
  },
  {
   "cell_type": "markdown",
   "id": "ebd53fe5",
   "metadata": {},
   "source": [
    "#### Cluster 2\n",
    "<u>Jobs :</u> Mostly Lawyer - Artist - Execution\n",
    "\n",
    "<u>Married ? :</u> Yes 95 % / No 5 % \n",
    "\n",
    "<u>Graduated ? :</u> Yes 63 % / No 37 % \n",
    "\n",
    "<u>Spending Score :</u>  Low 41% / Average 13 % / High 46 % \n",
    "\n",
    "<u>Family Size :</u> Mostly 2 / Sometimes 1 / Sometimes 3  \n",
    "\n",
    "<u>Average Age :</u> 74\n",
    "\n",
    "<u>Description :</u>\n",
    "\n",
    "Cluster 2 is characterized by customers who are mostly in the legal and artistic fields, have a low spending score, and are mostly married and graduated, with an older average age (74).\n",
    "\n",
    "They are mostly budget-conscious shoppers but are more likely to be single. But it also includes a high number of customers with High Spending score.\n"
   ]
  },
  {
   "cell_type": "markdown",
   "id": "87e346a2",
   "metadata": {},
   "source": [
    "#### Cluster 3\n",
    "<u>Jobs :</u> Mostly Artist - Entertainment - Execution\n",
    "\n",
    "<u>Married ? :</u> Yes 88 % / No 12 % \n",
    "\n",
    "<u>Graduated ? :</u> Yes 80 % / No 20 % \n",
    "\n",
    "<u>Spending Score :</u>  Low 38% / Average 44 % / High 18 % \n",
    "\n",
    "<u>Family Size :</u> Mostly 2 / Sometimes 3 / Sometimes 4  \n",
    "\n",
    "<u>Average Age :</u> 54\n",
    "\n",
    "<u>Description :</u>\n",
    "\n",
    "Cluster 3 is characterized by customers who are mostly in the artistic and executive fields, have a low spending score, and are mostly married and graduated, with an average age of 54.\n",
    "\n",
    "Cluster 3 has a higher number of customers with average spending score."
   ]
  },
  {
   "cell_type": "markdown",
   "id": "5c4736d5",
   "metadata": {},
   "source": [
    "## Conclusion"
   ]
  },
  {
   "cell_type": "markdown",
   "id": "58a91cdc",
   "metadata": {},
   "source": [
    "#### I hope you liked this analysis, of course, I surely missed several things and I would be delighted to have your opinions and suggestions on my work! A like would be nice too <3"
   ]
  }
 ],
 "metadata": {
  "kernelspec": {
   "display_name": "Python 3 (ipykernel)",
   "language": "python",
   "name": "python3"
  },
  "language_info": {
   "codemirror_mode": {
    "name": "ipython",
    "version": 3
   },
   "file_extension": ".py",
   "mimetype": "text/x-python",
   "name": "python",
   "nbconvert_exporter": "python",
   "pygments_lexer": "ipython3",
   "version": "3.9.12"
  }
 },
 "nbformat": 4,
 "nbformat_minor": 5
}
